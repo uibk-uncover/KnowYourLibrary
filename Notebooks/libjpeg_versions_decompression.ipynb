{
 "cells": [
  {
   "cell_type": "markdown",
   "id": "272386cf",
   "metadata": {},
   "source": [
    "# Analysis of libjpeg - decompression\n",
    "\n",
    "**Author:** Martin Beneš"
   ]
  },
  {
   "cell_type": "markdown",
   "id": "962d1e98",
   "metadata": {},
   "source": [
    "This notebook contains forensic analysis of decompression using various libjpeg versions. Both RGB and grayscale are tested separately. All the other parameters are kept default."
   ]
  },
  {
   "cell_type": "code",
   "execution_count": 13,
   "id": "f9503151",
   "metadata": {},
   "outputs": [],
   "source": [
    "# versions to test\n",
    "versions = ['6b','turbo210','7','8','8a','8b','8c','8d','9','9a','9b','9c','9d','9e']\n",
    "versions2 = [v[:min(len(v),5)] for v in versions]\n",
    "\n",
    "# default versions\n",
    "import jpeglib\n",
    "v_arbitrary = '7' # arbitrary version for compression\n",
    "jpeglib.version.set(v_arbitrary)\n",
    "\n",
    "# random subsample size\n",
    "N_samples = 10\n",
    "\n",
    "# database path\n",
    "from pathlib import Path\n",
    "db_path = Path.home() / 'Datasets'\n",
    "\n",
    "# checkerboard\n",
    "import numpy as np\n",
    "def checkerboard(boardsize, tilesize, channels=3):\n",
    "    board = np.zeros([*boardsize, channels], dtype=np.uint8)\n",
    "    for i in range(boardsize[0]):\n",
    "        for j in range(boardsize[1]):\n",
    "            if (i//tilesize[0]) % 2 == (j//tilesize[1]) % 2:\n",
    "                board[i,j] = 255\n",
    "    return board"
   ]
  },
  {
   "cell_type": "markdown",
   "id": "bfc6294a",
   "metadata": {},
   "source": [
    "## Load BOSS"
   ]
  },
  {
   "cell_type": "markdown",
   "id": "cd011eeb",
   "metadata": {},
   "source": [
    "Load BOSSBase database consisting of 10000 grayscale images. It can be downloaded [here](http://agents.fel.cvut.cz/boss/index.php?mode=VIEW&tmpl=materials). For faster execution, we only work with its subsample."
   ]
  },
  {
   "cell_type": "code",
   "execution_count": 14,
   "id": "4414f4f0",
   "metadata": {},
   "outputs": [
    {
     "ename": "FileNotFoundError",
     "evalue": "[Errno 2] No such file or directory: '/home/nora/Datasets/BOSS_raw/BOSS_from_raw'",
     "output_type": "error",
     "traceback": [
      "\u001b[0;31m---------------------------------------------------------------------------\u001b[0m",
      "\u001b[0;31mFileNotFoundError\u001b[0m                         Traceback (most recent call last)",
      "Input \u001b[0;32mIn [14]\u001b[0m, in \u001b[0;36m<cell line: 4>\u001b[0;34m()\u001b[0m\n\u001b[1;32m      2\u001b[0m \u001b[38;5;28;01mimport\u001b[39;00m \u001b[38;5;21;01mos\u001b[39;00m\n\u001b[1;32m      3\u001b[0m boss_path \u001b[38;5;241m=\u001b[39m db_path \u001b[38;5;241m/\u001b[39m \u001b[38;5;124m'\u001b[39m\u001b[38;5;124mBOSS_raw\u001b[39m\u001b[38;5;124m'\u001b[39m \u001b[38;5;241m/\u001b[39m \u001b[38;5;124m'\u001b[39m\u001b[38;5;124mBOSS_from_raw\u001b[39m\u001b[38;5;124m'\u001b[39m\n\u001b[0;32m----> 4\u001b[0m boss_names \u001b[38;5;241m=\u001b[39m [boss_path \u001b[38;5;241m/\u001b[39m f \u001b[38;5;28;01mfor\u001b[39;00m f \u001b[38;5;129;01min\u001b[39;00m \u001b[43mos\u001b[49m\u001b[38;5;241;43m.\u001b[39;49m\u001b[43mlistdir\u001b[49m\u001b[43m(\u001b[49m\u001b[43mboss_path\u001b[49m\u001b[43m)\u001b[49m]\n\u001b[1;32m      5\u001b[0m \u001b[38;5;28mprint\u001b[39m(\u001b[38;5;124m\"\u001b[39m\u001b[38;5;124mLoaded BOSS database with\u001b[39m\u001b[38;5;124m\"\u001b[39m, \u001b[38;5;28mlen\u001b[39m(boss_names), \u001b[38;5;124m\"\u001b[39m\u001b[38;5;124mimages.\u001b[39m\u001b[38;5;124m\"\u001b[39m)\n\u001b[1;32m      7\u001b[0m \u001b[38;5;66;03m# sample without replacement\u001b[39;00m\n",
      "\u001b[0;31mFileNotFoundError\u001b[0m: [Errno 2] No such file or directory: '/home/nora/Datasets/BOSS_raw/BOSS_from_raw'"
     ]
    }
   ],
   "source": [
    "# list BOSS database\n",
    "import os\n",
    "boss_path = db_path / 'BOSS_raw' / 'BOSS_from_raw'\n",
    "boss_names = [boss_path / f for f in os.listdir(boss_path)]\n",
    "print(\"Loaded BOSS database with\", len(boss_names), \"images.\")\n",
    "\n",
    "# sample without replacement\n",
    "import random\n",
    "random.seed(42) # answer to everything\n",
    "boss_names_sub = random.sample(boss_names, N_samples-2)\n",
    "\n",
    "# choose most and least saturated\n",
    "#import cv2\n",
    "#most,least = (None,0),(None,0)\n",
    "#for i,f in enumerate(boss_names):\n",
    "#    if i % 500 == 0: print(i, '/', len(boss_names), '         ', end='\\r')\n",
    "#    if str(f).split('.')[-1] != 'png': continue\n",
    "#    x = cv2.imread(str(f),cv2.IMREAD_GRAYSCALE)\n",
    "#    xmin,xmax = (x == 0).sum(),(x == 255).sum()\n",
    "#    if xmin > least[1]: least = (f,xmin)\n",
    "#    if xmax > most[1]: most = (f,xmax)\n",
    "most,least = (boss_path / '6900_1_3.png',262144),(boss_path / '6155_1_6.png', 88944)\n",
    "# add them\n",
    "boss_names_sub.append(most[0])\n",
    "boss_names_sub.append(least[0])\n",
    "\n",
    "# load the grayscale image with cv2\n",
    "import cv2\n",
    "boss = np.array([np.array(cv2.imread(str(f),cv2.IMREAD_GRAYSCALE)) for f in boss_names_sub])\n",
    "boss = np.expand_dims(boss, axis=3)\n",
    "\n",
    "# append checkerboard\n",
    "for tilesize in [(4,4),(7,7),(8,8),(15,15),(16,16)]:\n",
    "    boss = np.append(boss, np.expand_dims(checkerboard((512, 512), tilesize, channels=1), 0), 0)\n",
    "\n",
    "print(\"Input shape\", boss.shape)"
   ]
  },
  {
   "cell_type": "markdown",
   "id": "70eb1ce5",
   "metadata": {},
   "source": [
    "## Load ALASKA"
   ]
  },
  {
   "cell_type": "markdown",
   "id": "f41b79fe",
   "metadata": {},
   "source": [
    "Load ALASKA2 database consisting of 70000 colored images. In this case we have uncompressed version of shape 256x256. You can find the scripts to download it [here](https://alaska.utt.fr/)."
   ]
  },
  {
   "cell_type": "code",
   "execution_count": 15,
   "id": "0cc3b29b",
   "metadata": {},
   "outputs": [
    {
     "name": "stdout",
     "output_type": "stream",
     "text": [
      "Loaded ALASKA2 database with 80010 images.\n",
      "Input shape (15, 256, 256, 3)\n"
     ]
    }
   ],
   "source": [
    "# Load ALASKA2 database\n",
    "import random\n",
    "alaska_path = db_path / 'ALASKA_v2_TIFF_256_COLOR'\n",
    "alaska_names = [alaska_path / f for f in os.listdir(alaska_path)]\n",
    "print(\"Loaded ALASKA2 database with\", len(alaska_names), \"images.\")\n",
    "\n",
    "# sample without replacement\n",
    "random.seed(42) # answer to everything\n",
    "alaska_names_sub = random.sample(alaska_names, N_samples-2)\n",
    "\n",
    "# choose most and least saturated\n",
    "import matplotlib.pyplot as plt\n",
    "#most,least = (None,0),(None,0)\n",
    "#for i,f in enumerate(alaska_names):\n",
    "#    if i % 500 == 0: print(i, '/', len(alaska_names), '         ', end='\\r')\n",
    "#    if str(f).split('.')[-1] != 'tif': continue\n",
    "#    x = plt.imread(str(f))\n",
    "#    xmin,xmax = (x == 0).sum(),(x == 255).sum()\n",
    "#    if xmin > least[1]: least = (f,xmin)\n",
    "#    if xmax > most[1]: most = (f,xmax)\n",
    "most,least = (alaska_path / '10343.tif',98491),(alaska_path / '05887.tif', 78128)\n",
    "# add them\n",
    "alaska_names_sub.append(most[0])\n",
    "alaska_names_sub.append(least[0])\n",
    "\n",
    "# load the image with PIL\n",
    "import matplotlib.pyplot as plt\n",
    "alaska = np.array([plt.imread(f) for f in alaska_names_sub])\n",
    "\n",
    "# append checkerboard\n",
    "for tilesize in [(4,4),(7,7),(8,8),(15,15),(16,16)]:\n",
    "    alaska = np.append(alaska, np.expand_dims(checkerboard((256, 256), tilesize, 3), 0), 0)\n",
    "\n",
    "print(\"Input shape\", alaska.shape)"
   ]
  },
  {
   "cell_type": "markdown",
   "id": "7fd53805",
   "metadata": {},
   "source": [
    "## Colored images"
   ]
  },
  {
   "cell_type": "markdown",
   "id": "5b4cd8b0",
   "metadata": {},
   "source": [
    "### Decompression"
   ]
  },
  {
   "cell_type": "markdown",
   "id": "d2875f88",
   "metadata": {},
   "source": [
    "As first we decompress our randomly chosen subsamples by each version. For compression we use one, arbitrary version to remove the potential artifacts from compression mismatch."
   ]
  },
  {
   "cell_type": "code",
   "execution_count": 16,
   "id": "8ae7f7e8",
   "metadata": {},
   "outputs": [],
   "source": [
    "# images recompressed by each version\n",
    "import tempfile\n",
    "images_rgb = {'version': [], 'image': []}\n",
    "\n",
    "with tempfile.TemporaryDirectory() as tmp:\n",
    "    \n",
    "    # iterate versions\n",
    "    for i,v_decompress in enumerate(versions):\n",
    "        \n",
    "        # compress each image arbitrary version\n",
    "        fnames = [str(Path(tmp) / f'{i}.jpeg') for i in range(alaska.shape[0])]\n",
    "        with jpeglib.version(v_arbitrary):\n",
    "            for i,fname in enumerate(fnames):\n",
    "                im = jpeglib.from_spatial(alaska[i])\n",
    "                im.write_spatial(fname)\n",
    "        \n",
    "        # decompress with each version version\n",
    "        with jpeglib.version(v_decompress):\n",
    "            images_rgb['version'].append(v_decompress)\n",
    "            images_rgb['image'].append(np.array([\n",
    "                jpeglib.read_spatial(fname).spatial for fname in fnames\n",
    "            ]))\n",
    "\n",
    "# dataframe\n",
    "import pandas as pd\n",
    "images_rgb = pd.DataFrame(images_rgb)"
   ]
  },
  {
   "cell_type": "markdown",
   "id": "003402fd",
   "metadata": {},
   "source": [
    "### N-to-N comparison"
   ]
  },
  {
   "cell_type": "markdown",
   "id": "ab4a1d89",
   "metadata": {},
   "source": [
    "Next we compare each version with each and construct distance matrix (triangular, as it is symmetric)."
   ]
  },
  {
   "cell_type": "code",
   "execution_count": 17,
   "id": "4c2e42bd",
   "metadata": {},
   "outputs": [],
   "source": [
    "# distance metric (based on L1)\n",
    "from scipy.spatial.distance import pdist, squareform\n",
    "pixel_mismatch = lambda x1,x2: (np.abs(x1.astype(np.int32) - x2.astype(np.int32)) != 0).mean()\n",
    "\n",
    "# images to distance matrix\n",
    "images_rgb_list = np.array([list(i) for i in images_rgb.image.to_list()], dtype=object)\n",
    "images_rgb_list = images_rgb_list.reshape(len(versions), -1)\n",
    "dists_rgb = pdist(images_rgb_list, pixel_mismatch)\n",
    "distmat_rgb = squareform(dists_rgb)"
   ]
  },
  {
   "cell_type": "markdown",
   "id": "a3f909ad",
   "metadata": {},
   "source": [
    "### Clustering"
   ]
  },
  {
   "cell_type": "markdown",
   "id": "1c6d604e",
   "metadata": {},
   "source": [
    "In the next step we find clusters, corresponding to distinct implementations, which in this configuration produce different results."
   ]
  },
  {
   "cell_type": "code",
   "execution_count": 18,
   "id": "74f79b4a",
   "metadata": {},
   "outputs": [
    {
     "name": "stdout",
     "output_type": "stream",
     "text": [
      "3 classes: ['9a', '9b', '9c', '9d', '9e'] ['6b', 'turbo210'] ['7', '8', '8a', '8b', '8c', '8d', '9']\n"
     ]
    }
   ],
   "source": [
    "# cluster\n",
    "from sklearn.cluster import AgglomerativeClustering\n",
    "for k in range(1,6):\n",
    "    agnes = AgglomerativeClustering(n_clusters=k, linkage='average', affinity='precomputed')\n",
    "    agnes.fit(distmat_rgb)\n",
    "    \n",
    "    # compute heterogenity metric (sum of distances)\n",
    "    heterogenity = np.sum([ distmat_rgb[i,j]\n",
    "             for group in np.unique(agnes.labels_)\n",
    "             for i in np.where(agnes.labels_ == group)[0]\n",
    "             for j in np.where(agnes.labels_ == group)[0] ])\n",
    "    \n",
    "    # homogenous clusters\n",
    "    if heterogenity == 0: break\n",
    "print(k, \"classes:\", *[[versions[i] for i in np.where(agnes.labels_ == cl)[0]] for cl in np.unique(agnes.labels_)])"
   ]
  },
  {
   "cell_type": "markdown",
   "id": "414df6fb",
   "metadata": {},
   "source": [
    "We receive three clusters:\n",
    "\n",
    "- libjpeg 6b and libjpeg-turbo 2.1.0\n",
    "- libjpeg 7 up to 9\n",
    "- libjpeg 9a and above"
   ]
  },
  {
   "cell_type": "markdown",
   "id": "d14fb346",
   "metadata": {},
   "source": [
    "### Plot of mismatch matrix"
   ]
  },
  {
   "cell_type": "markdown",
   "id": "89929d51",
   "metadata": {},
   "source": [
    "To confirm, we visualize the mismatch matrix, which is a distance matrix where non-zero values are set to 1."
   ]
  },
  {
   "cell_type": "code",
   "execution_count": 19,
   "id": "8e7291f1",
   "metadata": {},
   "outputs": [
    {
     "data": {
      "image/png": "[encoded data removed]",
      "text/plain": [
       "<Figure size 432x288 with 2 Axes>"
      ]
     },
     "metadata": {
      "needs_background": "light"
     },
     "output_type": "display_data"
    }
   ],
   "source": [
    "# create plot\n",
    "fig,ax = plt.subplots(1,1)\n",
    "import seaborn as sns\n",
    "sns.heatmap(\n",
    "    pd.DataFrame(distmat_rgb == 0, index=versions2, columns=versions2),\n",
    "    linewidth=.05, ax=ax, cmap=['#BBB','#DDD'])\n",
    "colorbar = ax.collections[0].colorbar \n",
    "r = colorbar.vmax - colorbar.vmin \n",
    "colorbar.set_ticks([colorbar.vmin + r / 2 * (0.5 + i) for i in range(2)])\n",
    "colorbar.set_ticklabels(['mismatch','match'])\n",
    "#plt.show();\n",
    "plt.savefig('../text/forensic/figures/mismatch_decompression_rgb.png', dpi=100)"
   ]
  },
  {
   "cell_type": "markdown",
   "id": "0cd6341b",
   "metadata": {},
   "source": [
    "Mismatch matrix supports the clusters discovered before."
   ]
  },
  {
   "cell_type": "markdown",
   "id": "654159bd",
   "metadata": {},
   "source": [
    "### Difference"
   ]
  },
  {
   "cell_type": "code",
   "execution_count": 20,
   "id": "b871709f",
   "metadata": {},
   "outputs": [
    {
     "data": {
      "image/png": "[encoded data removed]",
      "text/plain": [
       "<Figure size 864x504 with 1 Axes>"
      ]
     },
     "metadata": {},
     "output_type": "display_data"
    }
   ],
   "source": [
    "# difference image\n",
    "(image6b,) = images_rgb[images_rgb.version == '6b'].image\n",
    "(image7,) = images_rgb[images_rgb.version == '7'].image\n",
    "D = (image6b.astype(np.int32) - image7.astype(np.int32))\n",
    "# create histogram\n",
    "sns.set_theme()\n",
    "fig,ax = plt.subplots(1,1, figsize=[12,7])\n",
    "sns.despine(left=False, bottom=False)\n",
    "g = sns.histplot(D.flatten(), ax=ax, binwidth=1, stat='density')\n",
    "g.set_yscale('log');\n",
    "fig.suptitle(f'Histogram of difference 6b vs. 7', fontsize=16);"
   ]
  },
  {
   "cell_type": "code",
   "execution_count": 8,
   "id": "71c387d8",
   "metadata": {},
   "outputs": [
    {
     "ename": "NameError",
     "evalue": "name 'plt' is not defined",
     "output_type": "error",
     "traceback": [
      "\u001b[0;31m---------------------------------------------------------------------------\u001b[0m",
      "\u001b[0;31mNameError\u001b[0m                                 Traceback (most recent call last)",
      "Input \u001b[0;32mIn [8]\u001b[0m, in \u001b[0;36m<cell line: 1>\u001b[0;34m()\u001b[0m\n\u001b[0;32m----> 1\u001b[0m fig,axs \u001b[38;5;241m=\u001b[39m \u001b[43mplt\u001b[49m\u001b[38;5;241m.\u001b[39msubplots(\u001b[38;5;241m1\u001b[39m,\u001b[38;5;241m3\u001b[39m, figsize\u001b[38;5;241m=\u001b[39m(\u001b[38;5;241m16\u001b[39m,\u001b[38;5;241m4\u001b[39m), sharey\u001b[38;5;241m=\u001b[39m\u001b[38;5;28;01mTrue\u001b[39;00m)\n\u001b[1;32m      2\u001b[0m \u001b[38;5;28;01mfor\u001b[39;00m i,(ax,title) \u001b[38;5;129;01min\u001b[39;00m \u001b[38;5;28menumerate\u001b[39m(\u001b[38;5;28mzip\u001b[39m(axs\u001b[38;5;241m.\u001b[39mflat,[\u001b[38;5;124m'\u001b[39m\u001b[38;5;124mRed\u001b[39m\u001b[38;5;124m'\u001b[39m,\u001b[38;5;124m'\u001b[39m\u001b[38;5;124mGreen\u001b[39m\u001b[38;5;124m'\u001b[39m,\u001b[38;5;124m'\u001b[39m\u001b[38;5;124mBlue\u001b[39m\u001b[38;5;124m'\u001b[39m])):\n\u001b[1;32m      3\u001b[0m     g \u001b[38;5;241m=\u001b[39m sns\u001b[38;5;241m.\u001b[39mhistplot(D[:,:,:,i]\u001b[38;5;241m.\u001b[39mflatten(), ax\u001b[38;5;241m=\u001b[39max, binwidth\u001b[38;5;241m=\u001b[39m\u001b[38;5;241m1\u001b[39m, stat\u001b[38;5;241m=\u001b[39m\u001b[38;5;124m'\u001b[39m\u001b[38;5;124mdensity\u001b[39m\u001b[38;5;124m'\u001b[39m)\n",
      "\u001b[0;31mNameError\u001b[0m: name 'plt' is not defined"
     ]
    }
   ],
   "source": [
    "fig,axs = plt.subplots(1,3, figsize=(16,4), sharey=True)\n",
    "for i,(ax,title) in enumerate(zip(axs.flat,['Red','Green','Blue'])):\n",
    "    g = sns.histplot(D[:,:,:,i].flatten(), ax=ax, binwidth=1, stat='density')\n",
    "    g.set_yscale('log');\n",
    "    g.set_title(title, fontsize=12)\n",
    "fig.suptitle(f'Histograms of difference 6b vs. 7', fontsize=16);"
   ]
  },
  {
   "cell_type": "code",
   "execution_count": 9,
   "id": "dae4d5e4",
   "metadata": {},
   "outputs": [
    {
     "ename": "NameError",
     "evalue": "name 'plt' is not defined",
     "output_type": "error",
     "traceback": [
      "\u001b[0;31m---------------------------------------------------------------------------\u001b[0m",
      "\u001b[0;31mNameError\u001b[0m                                 Traceback (most recent call last)",
      "Input \u001b[0;32mIn [9]\u001b[0m, in \u001b[0;36m<cell line: 1>\u001b[0;34m()\u001b[0m\n\u001b[0;32m----> 1\u001b[0m fig,axs \u001b[38;5;241m=\u001b[39m \u001b[43mplt\u001b[49m\u001b[38;5;241m.\u001b[39msubplots(\u001b[38;5;241m1\u001b[39m,\u001b[38;5;241m3\u001b[39m, figsize\u001b[38;5;241m=\u001b[39m(\u001b[38;5;241m16\u001b[39m,\u001b[38;5;241m4\u001b[39m), sharey\u001b[38;5;241m=\u001b[39m\u001b[38;5;28;01mTrue\u001b[39;00m)\n\u001b[1;32m      2\u001b[0m cbar_ax \u001b[38;5;241m=\u001b[39m fig\u001b[38;5;241m.\u001b[39madd_axes([\u001b[38;5;241m.92\u001b[39m, \u001b[38;5;241m.15\u001b[39m, \u001b[38;5;241m.02\u001b[39m, \u001b[38;5;241m.7\u001b[39m])\n\u001b[1;32m      3\u001b[0m vmin,vmax \u001b[38;5;241m=\u001b[39m D\u001b[38;5;241m.\u001b[39mmean() \u001b[38;5;241m-\u001b[39m D\u001b[38;5;241m.\u001b[39mstd(), D\u001b[38;5;241m.\u001b[39mmean() \u001b[38;5;241m+\u001b[39m D\u001b[38;5;241m.\u001b[39mstd() \u001b[38;5;66;03m# three sigma\u001b[39;00m\n",
      "\u001b[0;31mNameError\u001b[0m: name 'plt' is not defined"
     ]
    }
   ],
   "source": [
    "fig,axs = plt.subplots(1,3, figsize=(16,4), sharey=True)\n",
    "cbar_ax = fig.add_axes([.92, .15, .02, .7])\n",
    "vmin,vmax = D.mean() - D.std(), D.mean() + D.std() # three sigma\n",
    "for i,(ax,title) in enumerate(zip(axs.flat,['Red','Green','Blue'])):\n",
    "    p = sns.heatmap(D[1,:,:,i], cbar=i==0, vmin=vmin, vmax=vmax,\n",
    "                    cmap=sns.color_palette(\"icefire\", as_cmap=True),\n",
    "                    ax=ax, cbar_ax=None if i else cbar_ax)\n",
    "    p.set_xticks([0,63,127,191,255])\n",
    "    p.set_yticks([0,63,127,191,255])\n",
    "    p.set_title(title, fontsize=12)\n",
    "fig.suptitle(f'Difference 6b vs. 7', fontsize=16);\n",
    "plt.savefig('../text/forensic/figures/diff_decompression_6b_7.png');"
   ]
  },
  {
   "cell_type": "markdown",
   "id": "99eecaa1",
   "metadata": {},
   "source": [
    "## Grayscale images"
   ]
  },
  {
   "cell_type": "markdown",
   "id": "30d430cc",
   "metadata": {},
   "source": [
    "Now we change to BOSS database, as we will work with grayscale images."
   ]
  },
  {
   "cell_type": "markdown",
   "id": "612f5241",
   "metadata": {},
   "source": [
    "### Compression"
   ]
  },
  {
   "cell_type": "markdown",
   "id": "1ec36701",
   "metadata": {},
   "source": [
    "First we decompress grayscale images."
   ]
  },
  {
   "cell_type": "code",
   "execution_count": 10,
   "id": "1f893565",
   "metadata": {},
   "outputs": [
    {
     "ename": "NameError",
     "evalue": "name 'alaska' is not defined",
     "output_type": "error",
     "traceback": [
      "\u001b[0;31m---------------------------------------------------------------------------\u001b[0m",
      "\u001b[0;31mNameError\u001b[0m                                 Traceback (most recent call last)",
      "Input \u001b[0;32mIn [10]\u001b[0m, in \u001b[0;36m<cell line: 5>\u001b[0;34m()\u001b[0m\n\u001b[1;32m      5\u001b[0m \u001b[38;5;28;01mwith\u001b[39;00m tempfile\u001b[38;5;241m.\u001b[39mTemporaryDirectory() \u001b[38;5;28;01mas\u001b[39;00m tmp:\n\u001b[1;32m      6\u001b[0m     \n\u001b[1;32m      7\u001b[0m     \u001b[38;5;66;03m# iterate versions\u001b[39;00m\n\u001b[1;32m      8\u001b[0m     \u001b[38;5;28;01mfor\u001b[39;00m i,v_decompress \u001b[38;5;129;01min\u001b[39;00m \u001b[38;5;28menumerate\u001b[39m(versions):\n\u001b[1;32m      9\u001b[0m         \n\u001b[1;32m     10\u001b[0m         \u001b[38;5;66;03m# compress each image with version\u001b[39;00m\n\u001b[0;32m---> 11\u001b[0m         fnames \u001b[38;5;241m=\u001b[39m [\u001b[38;5;28mstr\u001b[39m(Path(tmp) \u001b[38;5;241m/\u001b[39m \u001b[38;5;124mf\u001b[39m\u001b[38;5;124m'\u001b[39m\u001b[38;5;132;01m{\u001b[39;00mi\u001b[38;5;132;01m}\u001b[39;00m\u001b[38;5;124m.jpeg\u001b[39m\u001b[38;5;124m'\u001b[39m) \u001b[38;5;28;01mfor\u001b[39;00m i \u001b[38;5;129;01min\u001b[39;00m \u001b[38;5;28mrange\u001b[39m(\u001b[43malaska\u001b[49m\u001b[38;5;241m.\u001b[39mshape[\u001b[38;5;241m0\u001b[39m])]\n\u001b[1;32m     12\u001b[0m         \u001b[38;5;28;01mwith\u001b[39;00m jpeglib\u001b[38;5;241m.\u001b[39mversion(v_arbitrary):\n\u001b[1;32m     13\u001b[0m             \u001b[38;5;28;01mfor\u001b[39;00m i,fname \u001b[38;5;129;01min\u001b[39;00m \u001b[38;5;28menumerate\u001b[39m(fnames):\n",
      "\u001b[0;31mNameError\u001b[0m: name 'alaska' is not defined"
     ]
    }
   ],
   "source": [
    "# images recompressed by each version\n",
    "images_gray = {'version': [], 'image': [], 'Y': []}\n",
    "\n",
    "import tempfile\n",
    "with tempfile.TemporaryDirectory() as tmp:\n",
    "    \n",
    "    # iterate versions\n",
    "    for i,v_decompress in enumerate(versions):\n",
    "        \n",
    "        # compress each image with version\n",
    "        fnames = [str(Path(tmp) / f'{i}.jpeg') for i in range(alaska.shape[0])]\n",
    "        with jpeglib.version(v_arbitrary):\n",
    "            for i,fname in enumerate(fnames):\n",
    "                im = jpeglib.from_spatial(boss[i], 'JCS_GRAYSCALE')\n",
    "                im.write_spatial(fname)\n",
    "        \n",
    "        # decompress with single (arbitrary) version\n",
    "        with jpeglib.version(v_decompress):\n",
    "            images_gray['version'].append(v_decompress)\n",
    "            images_gray['image'].append(np.array([\n",
    "                jpeglib.read_spatial(fname).spatial for fname in fnames\n",
    "            ]))\n",
    "            images_gray['Y'].append(np.array([\n",
    "                jpeglib.read_dct(fname).Y for fname in fnames\n",
    "            ]))\n",
    "\n",
    "# dataframe\n",
    "images_gray = pd.DataFrame(images_gray)"
   ]
  },
  {
   "cell_type": "markdown",
   "id": "fa648adc",
   "metadata": {},
   "source": [
    "### N-to-N comparison"
   ]
  },
  {
   "cell_type": "markdown",
   "id": "48e322ee",
   "metadata": {},
   "source": [
    "Then we compare all the versions and construct distance matrix."
   ]
  },
  {
   "cell_type": "code",
   "execution_count": 40,
   "id": "b47a2e1a",
   "metadata": {},
   "outputs": [],
   "source": [
    "# images to distance matrix\n",
    "images_gray_list = np.array([list(i) for i in images_gray.image.to_list()], dtype=object)\n",
    "images_gray_list = images_gray_list.reshape(len(versions), -1)\n",
    "dists_gray = pdist(images_gray_list, pixel_mismatch)\n",
    "distmat_gray = squareform(dists_gray)"
   ]
  },
  {
   "cell_type": "markdown",
   "id": "f4554174",
   "metadata": {},
   "source": [
    "### Clustering"
   ]
  },
  {
   "cell_type": "markdown",
   "id": "ece09c9f",
   "metadata": {},
   "source": [
    "The distance matrix is clustered based, so that we have uniform clusters."
   ]
  },
  {
   "cell_type": "code",
   "execution_count": 41,
   "id": "ebee01d8",
   "metadata": {},
   "outputs": [
    {
     "name": "stdout",
     "output_type": "stream",
     "text": [
      "1 classes: ['6b', 'turbo210', '7', '8', '8a', '8b', '8c', '8d', '9', '9a', '9b', '9c', '9d', '9e']\n"
     ]
    }
   ],
   "source": [
    "# cluster\n",
    "from sklearn.cluster import AgglomerativeClustering\n",
    "for k in range(1,6):\n",
    "    agnes = AgglomerativeClustering(n_clusters=k, linkage='average', affinity='precomputed')\n",
    "    agnes.fit(distmat_gray)\n",
    "    \n",
    "    # compute heterogenity metric (sum of distances)\n",
    "    heterogenity = np.sum([ distmat_gray[i,j]\n",
    "             for group in np.unique(agnes.labels_)\n",
    "             for i in np.where(agnes.labels_ == group)[0]\n",
    "             for j in np.where(agnes.labels_ == group)[0] ])\n",
    "    \n",
    "    # homogenous clusters\n",
    "    if heterogenity == 0: break\n",
    "print(k, \"classes:\", *[[versions[i] for i in np.where(agnes.labels_ == cl)[0]] for cl in np.unique(agnes.labels_)])"
   ]
  },
  {
   "cell_type": "markdown",
   "id": "afd10a2e",
   "metadata": {},
   "source": [
    "All the versions belong to the same cluster."
   ]
  },
  {
   "cell_type": "markdown",
   "id": "004439db",
   "metadata": {},
   "source": [
    "### Plot of mismatch matrix"
   ]
  },
  {
   "cell_type": "markdown",
   "id": "0e9fd721",
   "metadata": {},
   "source": [
    "For control, we again plot the mismatch matrix."
   ]
  },
  {
   "cell_type": "code",
   "execution_count": 42,
   "id": "6fd76f62",
   "metadata": {},
   "outputs": [
    {
     "data": {
      "image/png": "[encoded data removed]",
      "text/plain": [
       "<Figure size 432x288 with 2 Axes>"
      ]
     },
     "metadata": {},
     "output_type": "display_data"
    }
   ],
   "source": [
    "# create plot\n",
    "fig,ax = plt.subplots(1,1)\n",
    "import seaborn as sns\n",
    "sns.heatmap(\n",
    "    pd.DataFrame(distmat_gray == 0, index=versions2, columns=versions2),\n",
    "    linewidth=.05, ax=ax, cmap=['#BBB','#DDD'])\n",
    "colorbar = ax.collections[0].colorbar \n",
    "r = colorbar.vmax - colorbar.vmin \n",
    "colorbar.set_ticks([colorbar.vmin + r / 2 * (0.5 + i) for i in range(2)])\n",
    "colorbar.set_ticklabels(['mismatch','match'])\n",
    "plt.show();"
   ]
  },
  {
   "cell_type": "markdown",
   "id": "be39d95a",
   "metadata": {},
   "source": [
    "Heatmap shows that every version's output matches with every other."
   ]
  }
 ],
 "metadata": {
  "kernelspec": {
   "display_name": "Python 3",
   "language": "python",
   "name": "python3"
  },
  "language_info": {
   "codemirror_mode": {
    "name": "ipython",
    "version": 3
   },
   "file_extension": ".py",
   "mimetype": "text/x-python",
   "name": "python",
   "nbconvert_exporter": "python",
   "pygments_lexer": "ipython3",
   "version": "3.9.5"
  }
 },
 "nbformat": 4,
 "nbformat_minor": 5
}
