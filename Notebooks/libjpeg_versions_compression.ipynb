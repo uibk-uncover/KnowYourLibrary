{
 "cells": [
  {
   "cell_type": "markdown",
   "id": "272386cf",
   "metadata": {},
   "source": [
    "# Analysis of libjpeg - compression\n",
    "\n",
    "**Author:** Martin Beneš"
   ]
  },
  {
   "cell_type": "markdown",
   "id": "ff3d3557",
   "metadata": {},
   "source": [
    "This notebook contains forensic analysis of compression using various libjpeg versions. Both RGB and grayscale are tested separately. All the other parameters are kept default."
   ]
  },
  {
   "cell_type": "code",
   "execution_count": 1,
   "id": "8fc874b9",
   "metadata": {},
   "outputs": [],
   "source": [
    "# versions to test\n",
    "versions = ['6b','turbo210','7','8','8a','8b','8c','8d','9','9a','9b','9c','9d','9e']\n",
    "versions2 = [v[:min(len(v),5)] for v in versions]\n",
    "\n",
    "# default versions\n",
    "import jpeglib\n",
    "v_arbitrary = '9e' # arbitrary version\n",
    "jpeglib.version.set(v_arbitrary)\n",
    "\n",
    "# random subsample size\n",
    "N_samples = 1000\n",
    "\n",
    "# database path\n",
    "from pathlib import Path\n",
    "db_path = Path.home() / 'Datasets'\n",
    "\n",
    "# checkerboard\n",
    "import numpy as np\n",
    "def checkerboard(boardsize, tilesize, channels=3):\n",
    "    board = np.zeros([*boardsize, channels], dtype=np.uint8)\n",
    "    for i in range(boardsize[0]):\n",
    "        for j in range(boardsize[1]):\n",
    "            if (i//tilesize[0]) % 2 == (j//tilesize[1]) % 2:\n",
    "                board[i,j] = 255\n",
    "    return board"
   ]
  },
  {
   "cell_type": "markdown",
   "id": "774b821b",
   "metadata": {},
   "source": [
    "## Load BOSS"
   ]
  },
  {
   "cell_type": "markdown",
   "id": "ff9f80d2",
   "metadata": {},
   "source": [
    "Load BOSSBase database consisting of 10000 grayscale images. It can be downloaded [here](http://agents.fel.cvut.cz/boss/index.php?mode=VIEW&tmpl=materials). For faster execution, we only work with its subsample."
   ]
  },
  {
   "cell_type": "code",
   "execution_count": 2,
   "id": "4414f4f0",
   "metadata": {},
   "outputs": [
    {
     "name": "stdout",
     "output_type": "stream",
     "text": [
      "Loaded BOSS database with 23152 images.\n",
      "Input shape (1005, 512, 512, 1)\n"
     ]
    }
   ],
   "source": [
    "# list BOSS database\n",
    "import os\n",
    "boss_path = db_path / 'BOSS_raw' / 'BOSS_from_raw' #/ 'cover'\n",
    "boss_names = [boss_path / f for f in os.listdir(boss_path)]\n",
    "print(\"Loaded BOSS database with\", len(boss_names), \"images.\")\n",
    "\n",
    "# sample without replacement\n",
    "import random\n",
    "random.seed(42) # answer to everything\n",
    "boss_names_sub = random.sample(boss_names, N_samples-2)\n",
    "\n",
    "# choose most and least saturated\n",
    "import cv2\n",
    "## search\n",
    "#most,least = (None,0),(None,0)\n",
    "#for i,f in enumerate(boss_names):\n",
    "#    if i % 500 == 0: print(i, '/', len(boss_names), '         ', end='\\r')\n",
    "#    if str(f).split('.')[-1] != 'png': continue\n",
    "#    x = cv2.imread(str(f),cv2.IMREAD_GRAYSCALE)\n",
    "#    xmin,xmax = (x == 0).sum(),(x == 255).sum()\n",
    "#    if xmin > least[1]: least = (f,xmin)\n",
    "#    if xmax > most[1]: most = (f,xmax)\n",
    "most,least = (boss_path / '6900_1_3.png',262144),(boss_path / '6155_1_6.png', 88944)\n",
    "# add them\n",
    "boss_names_sub.append(most[0])\n",
    "boss_names_sub.append(least[0])\n",
    "\n",
    "# load the grayscale image with cv2\n",
    "import numpy as np\n",
    "boss = np.array([cv2.imread(str(f),cv2.IMREAD_GRAYSCALE) for f in boss_names_sub])\n",
    "boss = np.expand_dims(boss, axis=3)\n",
    "\n",
    "# append checkerboard\n",
    "for tilesize in [(4,4),(7,7),(8,8),(15,15),(16,16)]:\n",
    "    boss = np.append(boss, np.expand_dims(checkerboard((512, 512), tilesize, channels=1), 0), 0)\n",
    "\n",
    "print(\"Input shape\", boss.shape)"
   ]
  },
  {
   "cell_type": "markdown",
   "id": "3fc6a14c",
   "metadata": {},
   "source": [
    "## Load ALASKA"
   ]
  },
  {
   "cell_type": "markdown",
   "id": "bb690455",
   "metadata": {},
   "source": [
    "Load ALASKA2 database consisting of 70000 colored images. In this case we have uncompressed version of shape 256x256. You can find the scripts to download it [here](https://alaska.utt.fr/)."
   ]
  },
  {
   "cell_type": "code",
   "execution_count": 3,
   "id": "b9648671",
   "metadata": {},
   "outputs": [
    {
     "name": "stdout",
     "output_type": "stream",
     "text": [
      "Loaded ALASKA2 database with 80004 images.\n",
      "Input shape (1005, 256, 256, 3)\n"
     ]
    }
   ],
   "source": [
    "# Load ALASKA2 database\n",
    "alaska_path = db_path / 'ALASKA_v2_TIFF_256_COLOR'\n",
    "alaska_names = [alaska_path / f for f in os.listdir(alaska_path)]\n",
    "print(\"Loaded ALASKA2 database with\", len(alaska_names), \"images.\")\n",
    "\n",
    "# sample without replacement\n",
    "random.seed(12345) # answer to everything\n",
    "alaska_names_sub = random.sample(alaska_names, N_samples-2)\n",
    "\n",
    "# choose most and least saturated\n",
    "import matplotlib.pyplot as plt\n",
    "#most,least = (None,0),(None,0)\n",
    "#for i,f in enumerate(alaska_names):\n",
    "#    if i % 500 == 0: print(i, '/', len(alaska_names), '         ', end='\\r')\n",
    "#    if str(f).split('.')[-1] != 'tif': continue\n",
    "#    x = plt.imread(str(f))\n",
    "#    xmin,xmax = (x == 0).sum(),(x == 255).sum()\n",
    "#    if xmin > least[1]: least = (f,xmin)\n",
    "#    if xmax > most[1]: most = (f,xmax)\n",
    "most,least = (alaska_path / '10343.tif',98491),(alaska_path / '05887.tif', 78128)\n",
    "# add them\n",
    "alaska_names_sub.append(most[0])\n",
    "alaska_names_sub.append(least[0])\n",
    "\n",
    "# load the image with PIL\n",
    "import matplotlib.pyplot as plt\n",
    "alaska = np.array([plt.imread(f) for f in alaska_names_sub])\n",
    "\n",
    "# append checkerboard\n",
    "for tilesize in [(4,4),(7,7),(8,8),(15,15),(16,16)]:\n",
    "    alaska = np.append(alaska, np.expand_dims(checkerboard((256, 256), tilesize, 3), 0), 0)\n",
    "\n",
    "print(\"Input shape\", alaska.shape)"
   ]
  },
  {
   "cell_type": "markdown",
   "id": "86ad7117",
   "metadata": {},
   "source": [
    "## Test of SIMD"
   ]
  },
  {
   "cell_type": "markdown",
   "id": "5e479e79",
   "metadata": {},
   "source": [
    "We test, whether SIMD acceleration of SIMD is used at all. To do so, we compress and decompress ALASKA subsample with 6b and turbo and perform t-test about mean time."
   ]
  },
  {
   "cell_type": "code",
   "execution_count": 4,
   "id": "47e9d5db",
   "metadata": {},
   "outputs": [
    {
     "name": "stdout",
     "output_type": "stream",
     "text": [
      "p-values: for compression 0.00E+00, for decompression 4.90E-09\n"
     ]
    },
    {
     "data": {
      "image/png": "[encoded data removed]",
      "text/plain": [
       "<Figure size 1080x360 with 2 Axes>"
      ]
     },
     "metadata": {
      "needs_background": "light"
     },
     "output_type": "display_data"
    }
   ],
   "source": [
    "import tempfile\n",
    "kw_c = {'qt': 75, 'flags': []}\n",
    "kw_d = {'out_color_space': 'JCS_RGB', 'flags': []}\n",
    "\n",
    "with tempfile.TemporaryDirectory() as tmp:\n",
    "    fnames = [str(Path(tmp) / f'{i}.jpeg') for i in range(alaska.shape[0])]\n",
    "    \n",
    "    # measure each version\n",
    "    test_versions = ['6b','turbo210']\n",
    "    t_c,t_d = {v:[] for v in test_versions},{v:[] for v in test_versions} # compression and decompression times\n",
    "    for version in test_versions:\n",
    "        with jpeglib.version(version):\n",
    "            \n",
    "            # iterate dataset\n",
    "            for i in range(alaska.shape[0]):\n",
    "                \n",
    "                t = jpeglib.Timer('compression')\n",
    "                im = jpeglib.from_spatial(alaska[i])\n",
    "                im.samp_factor = ((1,1),(1,1),(1,1))\n",
    "                im.write_spatial(fnames[i], **kw_c) # compress\n",
    "                t_c[version].append(t.stop())\n",
    "                \n",
    "                t = jpeglib.Timer('decompression')\n",
    "                #jpeglib.JPEG(fnames[i]).read_spatial(**kw_d) # decompress\n",
    "                jpeglib.read_spatial(fnames[i], **kw_d).spatial # decompress\n",
    "                t_d[version].append(t.stop())\n",
    "\n",
    "# Welch's t-test\n",
    "#   H0: mu_6b <= mu_turbo\n",
    "#   HA: mu_6b > mu_turbo\n",
    "from scipy.stats import ttest_ind, ttest_ind_from_stats\n",
    "_, pc = ttest_ind(t_c['6b'], t_c['turbo210'], alternative='greater', equal_var=False)\n",
    "_, pd = ttest_ind(t_d['6b'], t_d['turbo210'], alternative='greater', equal_var=False)\n",
    "print('p-values: for compression %.2E, for decompression %.2E' % (pc,pd))\n",
    "\n",
    "# plot histograms\n",
    "import pandas as pd\n",
    "times_c = pd.concat([pd.DataFrame({'library': 'jpeglib-turbo', 'time': t_c['turbo210']}),\n",
    "                     pd.DataFrame({'library': 'jpeglib 6b', 'time': t_c['6b']}) ], ignore_index=True)\n",
    "times_d = pd.concat([pd.DataFrame({'library': 'jpeglib-turbo', 'time': t_d['turbo210']}),\n",
    "                     pd.DataFrame({'library': 'jpeglib 6b', 'time': t_d['6b']}) ], ignore_index=True)\n",
    "import seaborn as sns\n",
    "fig,ax = plt.subplots(1,2, figsize=(15,5))\n",
    "sns.kdeplot(data=times_c, x=\"time\", hue=\"library\", ax=ax[0]).set_title(\"Compression time for 256x256 colored image\");\n",
    "sns.kdeplot(data=times_d, x=\"time\", hue=\"library\", ax=ax[1]).set_title(\"Decompression time for 256x256 colored image\");\n",
    "ax[0].set_xlim(0,.005)\n",
    "ax[1].set_xlim(0,.005)\n",
    "plt.show()"
   ]
  },
  {
   "cell_type": "markdown",
   "id": "74cacbc3",
   "metadata": {},
   "source": [
    "## Colored images"
   ]
  },
  {
   "cell_type": "markdown",
   "id": "592f1598",
   "metadata": {},
   "source": [
    "### Compression"
   ]
  },
  {
   "cell_type": "markdown",
   "id": "8dcb93a2",
   "metadata": {},
   "source": [
    "As first we compress our randomly chosen subsamples by each version. For decompression we use one, arbitrary version to remove the potential artifacts from decompression mismatch."
   ]
  },
  {
   "cell_type": "code",
   "execution_count": 5,
   "id": "8f731fe0",
   "metadata": {},
   "outputs": [],
   "source": [
    "# images recompressed by each version\n",
    "import tempfile\n",
    "images_rgb = {'version': [], 'image': [], 'Y': [], 'Cb': [], 'Cr': []}\n",
    "\n",
    "with tempfile.TemporaryDirectory() as tmp:\n",
    "    \n",
    "    # iterate versions\n",
    "    for i,v_compress in enumerate(versions):\n",
    "        \n",
    "        # compress each image with version\n",
    "        fnames = [str(Path(tmp) / f'{i}.jpeg') for i in range(alaska.shape[0])]\n",
    "        with jpeglib.version(v_compress):\n",
    "            for i,fname in enumerate(fnames):\n",
    "                im = jpeglib.from_spatial(alaska[i])\n",
    "                im.write_spatial(fname)\n",
    "        \n",
    "        # decompress with single (arbitrary) version\n",
    "        with jpeglib.version(v_arbitrary):\n",
    "            images_rgb['version'].append(v_compress)\n",
    "            images_rgb['image'].append(np.array([\n",
    "                jpeglib.read_spatial(fname).spatial\n",
    "                for fname in fnames]))\n",
    "            images_rgb['Y'].append([\n",
    "                jpeglib.read_dct(fname).Y for fname in fnames\n",
    "            ])\n",
    "            images_rgb['Cb'].append([\n",
    "                jpeglib.read_dct(fname).Cb for fname in fnames\n",
    "            ])\n",
    "            images_rgb['Cr'].append([\n",
    "                jpeglib.read_dct(fname).Cr for fname in fnames\n",
    "            ])\n",
    "\n",
    "# dataframe\n",
    "import pandas as pd\n",
    "images_rgb = pd.DataFrame(images_rgb)"
   ]
  },
  {
   "cell_type": "markdown",
   "id": "4ba70be0",
   "metadata": {},
   "source": [
    "### N-to-N comparison"
   ]
  },
  {
   "cell_type": "markdown",
   "id": "758f92ca",
   "metadata": {},
   "source": [
    "Next we compare each version with each in spatial domain and construct distance matrix (triangular, as it is symmetric)."
   ]
  },
  {
   "cell_type": "code",
   "execution_count": 6,
   "id": "62eca7fe",
   "metadata": {},
   "outputs": [],
   "source": [
    "# distance metric (based on L1)\n",
    "from scipy.spatial.distance import pdist, squareform\n",
    "mismatch = lambda x1,x2: (np.abs(x1.astype(np.int32) - x2.astype(np.int32)) != 0).mean()\n",
    "\n",
    "# images to distance matrix\n",
    "images_rgb_list = np.array([list(i) for i in images_rgb.image.to_list()], dtype=object)\n",
    "images_rgb_list = images_rgb_list.reshape(len(versions), -1)\n",
    "dists_rgb = pdist(images_rgb_list, mismatch)\n",
    "distmat_rgb = squareform(dists_rgb)"
   ]
  },
  {
   "cell_type": "markdown",
   "id": "9ee39336",
   "metadata": {},
   "source": [
    "We also need to compare DCT representations to validate, that compression and decompression artifacts did not removed themselves."
   ]
  },
  {
   "cell_type": "code",
   "execution_count": 7,
   "id": "d2590396",
   "metadata": {},
   "outputs": [
    {
     "name": "stdout",
     "output_type": "stream",
     "text": [
      "Y False\n",
      "Cb True\n",
      "Cr True\n"
     ]
    }
   ],
   "source": [
    "def get_distmat_dct(dct):\n",
    "    # images to distance matrix\n",
    "    images_dct_list = np.array([list(i) for i in dct.to_list()], dtype=object)\n",
    "    images_dct_list = images_dct_list.reshape(len(versions), -1)\n",
    "    dists_dct = pdist(images_dct_list, mismatch)\n",
    "    distmat_dct = squareform(dists_dct)\n",
    "    return distmat_dct\n",
    "\n",
    "# check match with spatial\n",
    "distmat_Y = get_distmat_dct(images_rgb.Y)\n",
    "print(\"Y\", ((distmat_rgb == 0) == (distmat_Y == 0)).all())\n",
    "# check match with spatial\n",
    "distmat_Cb = get_distmat_dct(images_rgb.Cb)\n",
    "print(\"Cb\", ((distmat_rgb == 0) == (distmat_Cb == 0)).all())\n",
    "# check match with spatial\n",
    "distmat_Cr = get_distmat_dct(images_rgb.Cr)\n",
    "print(\"Cr\", ((distmat_rgb == 0) == (distmat_Cr == 0)).all())"
   ]
  },
  {
   "cell_type": "markdown",
   "id": "8dac1422",
   "metadata": {},
   "source": [
    "DCT representation shows the same mismatches as RGB representation."
   ]
  },
  {
   "cell_type": "markdown",
   "id": "b61e0e49",
   "metadata": {},
   "source": [
    "### Clustering of spatial domain"
   ]
  },
  {
   "cell_type": "markdown",
   "id": "41e5517f",
   "metadata": {},
   "source": [
    "In the next step we find clusters, corresponding to distinct implementations, which in this configuration produce different results."
   ]
  },
  {
   "cell_type": "code",
   "execution_count": 8,
   "id": "8770ba0c",
   "metadata": {},
   "outputs": [
    {
     "name": "stdout",
     "output_type": "stream",
     "text": [
      "3 classes: ['7', '8', '8a', '8b', '8c', '8d', '9', '9a', '9b', '9c', '9d'] ['9e'] ['6b', 'turbo210']\n"
     ]
    }
   ],
   "source": [
    "# cluster\n",
    "from sklearn.cluster import AgglomerativeClustering\n",
    "for k in range(1,6):\n",
    "    agnes = AgglomerativeClustering(n_clusters=k, linkage='average', affinity='precomputed')\n",
    "    agnes.fit(distmat_rgb)\n",
    "    \n",
    "    # compute heterogenity metric (sum of distances)\n",
    "    heterogenity = np.sum([ distmat_rgb[i,j]\n",
    "             for group in np.unique(agnes.labels_)\n",
    "             for i in np.where(agnes.labels_ == group)[0]\n",
    "             for j in np.where(agnes.labels_ == group)[0] ])\n",
    "    \n",
    "    # homogenous clusters\n",
    "    if heterogenity == 0: break\n",
    "print(k, \"classes:\", *[[versions[i] for i in np.where(agnes.labels_ == cl)[0]] for cl in np.unique(agnes.labels_)])"
   ]
  },
  {
   "cell_type": "markdown",
   "id": "a84fb58e",
   "metadata": {},
   "source": [
    "We receive three clusters:\n",
    "\n",
    "- libjpeg 6b and turbo 2.1.0\n",
    "- libjpeg 7 to 9d\n",
    "- libjpeg 9e"
   ]
  },
  {
   "cell_type": "markdown",
   "id": "34f27746",
   "metadata": {},
   "source": [
    "### Clustering of luminance"
   ]
  },
  {
   "cell_type": "code",
   "execution_count": 9,
   "id": "a1c9dc1a",
   "metadata": {},
   "outputs": [
    {
     "name": "stdout",
     "output_type": "stream",
     "text": [
      "1 classes: ['6b', 'turbo210', '7', '8', '8a', '8b', '8c', '8d', '9', '9a', '9b', '9c', '9d', '9e']\n"
     ]
    }
   ],
   "source": [
    "# cluster\n",
    "from sklearn.cluster import AgglomerativeClustering\n",
    "for k in range(1,6):\n",
    "    agnes = AgglomerativeClustering(n_clusters=k, linkage='average', affinity='precomputed')\n",
    "    agnes.fit(distmat_rgb)\n",
    "    \n",
    "    # compute heterogenity metric (sum of distances)\n",
    "    heterogenity = np.sum([ distmat_Y[i,j]\n",
    "             for group in np.unique(agnes.labels_)\n",
    "             for i in np.where(agnes.labels_ == group)[0]\n",
    "             for j in np.where(agnes.labels_ == group)[0] ])\n",
    "    \n",
    "    # homogenous clusters\n",
    "    if heterogenity == 0: break\n",
    "print(k, \"classes:\", *[[versions[i] for i in np.where(agnes.labels_ == cl)[0]] for cl in np.unique(agnes.labels_)])"
   ]
  },
  {
   "cell_type": "markdown",
   "id": "1e8292fb",
   "metadata": {},
   "source": [
    "Difference is only in chrominance channels. In luminance, all versions return the same result."
   ]
  },
  {
   "cell_type": "markdown",
   "id": "384e4027",
   "metadata": {},
   "source": [
    "### Mismatch matrix"
   ]
  },
  {
   "cell_type": "markdown",
   "id": "573aa55c",
   "metadata": {},
   "source": [
    "To confirm, we visualize the mismatch matrix, which is a distance matrix where non-zero values are set to 1."
   ]
  },
  {
   "cell_type": "code",
   "execution_count": 10,
   "id": "5987ebf0",
   "metadata": {},
   "outputs": [
    {
     "data": {
      "image/png": "[encoded data removed]",
      "text/plain": [
       "<Figure size 432x288 with 2 Axes>"
      ]
     },
     "metadata": {
      "needs_background": "light"
     },
     "output_type": "display_data"
    }
   ],
   "source": [
    "# create plot\n",
    "fig,ax = plt.subplots(1,1)\n",
    "import seaborn as sns\n",
    "sns.heatmap(\n",
    "    pd.DataFrame(distmat_rgb == 0, index=versions2, columns=versions2),\n",
    "    linewidth=.05, ax=ax, cmap=['#BBB','#DDD'])\n",
    "colorbar = ax.collections[0].colorbar \n",
    "r = colorbar.vmax - colorbar.vmin \n",
    "colorbar.set_ticks([colorbar.vmin + r / 2 * (0.5 + i) for i in range(2)])\n",
    "colorbar.set_ticklabels(['mismatch','match'])"
   ]
  },
  {
   "cell_type": "markdown",
   "id": "836368c8",
   "metadata": {},
   "source": [
    "Mismatch matrix supports the clusters discovered before."
   ]
  },
  {
   "cell_type": "markdown",
   "id": "1917676b",
   "metadata": {},
   "source": [
    "## Grayscale images"
   ]
  },
  {
   "cell_type": "markdown",
   "id": "9d2a4454",
   "metadata": {},
   "source": [
    "Now we change to BOSS database, as we will work with grayscale images."
   ]
  },
  {
   "cell_type": "markdown",
   "id": "0308366c",
   "metadata": {},
   "source": [
    "### Compression"
   ]
  },
  {
   "cell_type": "markdown",
   "id": "1a188097",
   "metadata": {},
   "source": [
    "First we compress with parameter `in_color_space` set to grayscale."
   ]
  },
  {
   "cell_type": "code",
   "execution_count": 14,
   "id": "3ae0c420",
   "metadata": {},
   "outputs": [],
   "source": [
    "# images recompressed by each version\n",
    "images_gray = {'version': [], 'image': [], 'Y': []}\n",
    "\n",
    "import tempfile\n",
    "with tempfile.TemporaryDirectory() as tmp:\n",
    "    \n",
    "    # iterate versions\n",
    "    for i,v_compress in enumerate(versions):\n",
    "        \n",
    "        # compress each image with version\n",
    "        fnames = [str(Path(tmp) / f'{i}.jpeg') for i in range(boss.shape[0])]\n",
    "        with jpeglib.version(v_compress):\n",
    "            for i,fname in enumerate(fnames):\n",
    "                im = jpeglib.from_spatial(boss[i], 'JCS_GRAYSCALE')\n",
    "                im.write_spatial(fname)\n",
    "        \n",
    "        # decompress with single (arbitrary) version\n",
    "        with jpeglib.version('9d'):\n",
    "            images_gray['version'].append(v_compress)\n",
    "            images_gray['image'].append(np.array([\n",
    "                jpeglib.read_spatial(fname).spatial for fname in fnames\n",
    "            ]))\n",
    "            images_gray['Y'].append([\n",
    "                jpeglib.read_dct(fname).Y for fname in fnames\n",
    "            ])\n",
    "\n",
    "# dataframe\n",
    "import pandas as pd\n",
    "images_gray = pd.DataFrame(images_gray)"
   ]
  },
  {
   "cell_type": "markdown",
   "id": "96ec5fc4",
   "metadata": {},
   "source": [
    "### N-to-N comparison"
   ]
  },
  {
   "cell_type": "markdown",
   "id": "d4009b64",
   "metadata": {},
   "source": [
    "Then we compare all the versions and construct distance matrix."
   ]
  },
  {
   "cell_type": "code",
   "execution_count": 15,
   "id": "ae59b1a6",
   "metadata": {},
   "outputs": [],
   "source": [
    "# distance metric (based on L1)\n",
    "from scipy.spatial.distance import pdist, squareform\n",
    "pixel_mismatch = lambda x1,x2: (np.abs(x1.astype(np.int32) - x2.astype(np.int32)) != 0).mean()\n",
    "\n",
    "# images to distance matrix\n",
    "images_gray_list = np.array([list(i) for i in images_gray.image.to_list()], dtype=object)\n",
    "images_gray_list = images_gray_list.reshape(len(versions), -1)\n",
    "dists_gray = pdist(images_gray_list, mismatch)\n",
    "distmat_gray = squareform(dists_gray)"
   ]
  },
  {
   "cell_type": "markdown",
   "id": "089769fe",
   "metadata": {},
   "source": [
    "As before, we do the same for the DCT."
   ]
  },
  {
   "cell_type": "code",
   "execution_count": 16,
   "id": "88c0c184",
   "metadata": {},
   "outputs": [
    {
     "data": {
      "text/plain": [
       "True"
      ]
     },
     "execution_count": 16,
     "metadata": {},
     "output_type": "execute_result"
    }
   ],
   "source": [
    "# images to distance matrix\n",
    "images_dct_list = np.array([list(i) for i in images_gray.Y.to_list()], dtype=object)\n",
    "images_dct_list = images_dct_list.reshape(len(versions), -1)\n",
    "dists_dct = pdist(images_dct_list, mismatch)\n",
    "distmat_dct = squareform(dists_dct)\n",
    "\n",
    "# check match with spatial\n",
    "((distmat_gray == 0) == (distmat_dct == 0)).all()"
   ]
  },
  {
   "cell_type": "markdown",
   "id": "a074b394",
   "metadata": {},
   "source": [
    "### Clustering"
   ]
  },
  {
   "cell_type": "markdown",
   "id": "4161d92a",
   "metadata": {},
   "source": [
    "The distance matrix is clustered based, so that we have uniform clusters."
   ]
  },
  {
   "cell_type": "code",
   "execution_count": 17,
   "id": "221e34ae",
   "metadata": {},
   "outputs": [
    {
     "name": "stdout",
     "output_type": "stream",
     "text": [
      "1 classes: ['6b', 'turbo210', '7', '8', '8a', '8b', '8c', '8d', '9', '9a', '9b', '9c', '9d', '9e']\n"
     ]
    }
   ],
   "source": [
    "# cluster\n",
    "from sklearn.cluster import AgglomerativeClustering\n",
    "for k in range(1,6):\n",
    "    agnes = AgglomerativeClustering(n_clusters=k, linkage='average', affinity='precomputed')\n",
    "    agnes.fit(distmat_gray)\n",
    "    \n",
    "    # compute heterogenity metric (sum of distances)\n",
    "    heterogenity = np.sum([ distmat_gray[i,j]\n",
    "             for group in np.unique(agnes.labels_)\n",
    "             for i in np.where(agnes.labels_ == group)[0]\n",
    "             for j in np.where(agnes.labels_ == group)[0] ])\n",
    "    \n",
    "    # homogenous clusters\n",
    "    if heterogenity == 0: break\n",
    "print(k, \"classes:\", *[[versions[i] for i in np.where(agnes.labels_ == cl)[0]] for cl in np.unique(agnes.labels_)])"
   ]
  },
  {
   "cell_type": "markdown",
   "id": "7bcbcc6b",
   "metadata": {},
   "source": [
    "All the versions belong to the same cluster."
   ]
  },
  {
   "cell_type": "markdown",
   "id": "997cddac",
   "metadata": {},
   "source": [
    "### Mismatch matrix"
   ]
  },
  {
   "cell_type": "markdown",
   "id": "dd70b3a7",
   "metadata": {},
   "source": [
    "For control, we again plot the mismatch matrix."
   ]
  },
  {
   "cell_type": "code",
   "execution_count": 18,
   "id": "e611c0a3",
   "metadata": {},
   "outputs": [
    {
     "data": {
      "image/png": "[encoded data removed]",
      "text/plain": [
       "<Figure size 432x288 with 2 Axes>"
      ]
     },
     "metadata": {
      "needs_background": "light"
     },
     "output_type": "display_data"
    }
   ],
   "source": [
    "# create plot\n",
    "import matplotlib.pyplot as plt\n",
    "fig,ax = plt.subplots(1,1)\n",
    "import seaborn as sns\n",
    "sns.heatmap(\n",
    "    pd.DataFrame(distmat_gray == 0, index=versions, columns=versions),\n",
    "    linewidth=.05, ax=ax, cmap=['#BBB','#DDD'])\n",
    "colorbar = ax.collections[0].colorbar \n",
    "r = colorbar.vmax - colorbar.vmin \n",
    "colorbar.set_ticks([colorbar.vmin + r / 2 * (0.5 + i) for i in range(2)])\n",
    "colorbar.set_ticklabels(['mismatch','match'])"
   ]
  },
  {
   "cell_type": "markdown",
   "id": "f50810bc",
   "metadata": {},
   "source": [
    "Heatmap shows that all the versions behave identically."
   ]
  }
 ],
 "metadata": {
  "kernelspec": {
   "display_name": "Python 3 (ipykernel)",
   "language": "python",
   "name": "python3"
  },
  "language_info": {
   "codemirror_mode": {
    "name": "ipython",
    "version": 3
   },
   "file_extension": ".py",
   "mimetype": "text/x-python",
   "name": "python",
   "nbconvert_exporter": "python",
   "pygments_lexer": "ipython3",
   "version": "3.8.11"
  }
 },
 "nbformat": 4,
 "nbformat_minor": 5
}
